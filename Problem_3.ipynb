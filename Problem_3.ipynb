{
 "cells": [
  {
   "cell_type": "code",
   "execution_count": 1,
   "metadata": {},
   "outputs": [],
   "source": [
    "# -*- coding: utf-8 -*-\n",
    "\"\"\"\n",
    "Training an image classifier\n",
    "----------------------------\n",
    "We will do the following steps in order:\n",
    "1. Load and normalizing the MNIST training and test datasets using\n",
    "   ``torchvision``\n",
    "2. Define a SVM model\n",
    "3. Define a loss function\n",
    "4. Train the model on the training data\n",
    "5. Test the model on the test data\n",
    "1. Loading and normalizing MNIST\n",
    "^^^^^^^^^^^^^^^^^^^^^^^^^^^^^^^^^^\n",
    "Using ``torchvision``, it’s extremely easy to load MNIST.\n",
    "\"\"\"\n",
    "import torch\n",
    "import torchvision\n",
    "import torchvision.transforms as transforms\n",
    "import itertools\n",
    "\n",
    "########################################################################\n",
    "# The output of torchvision datasets are PILImage images of range [0, 1].\n",
    "# We transform them to Tensors of normalized range [-1, 1].\n",
    "# .. note::\n",
    "#     If running on Windows and you get a BrokenPipeError, try setting\n",
    "#     the num_worker of torch.utils.data.DataLoader() to 0."
   ]
  },
  {
   "cell_type": "code",
   "execution_count": 2,
   "metadata": {},
   "outputs": [],
   "source": [
    "pytorch_device = torch.device(\"cuda:0\" if torch.cuda.is_available() else \"cpu\")"
   ]
  },
  {
   "cell_type": "code",
   "execution_count": 69,
   "metadata": {},
   "outputs": [],
   "source": [
    "transform = transforms.Compose(\n",
    "    [transforms.ToTensor(),\n",
    "     transforms.Normalize((0.1307,), (0.3081,))])\n",
    "\n",
    "trainset = torchvision.datasets.MNIST(root='./data', train=True,\n",
    "                                        download=True, transform=transform)\n",
    "trainloader = torch.utils.data.DataLoader(trainset, batch_size=16,\n",
    "                                          shuffle=True, num_workers=2)\n",
    "\n",
    "testset = torchvision.datasets.MNIST(root='./data', train=False,\n",
    "                                       download=True, transform=transform)\n",
    "testloader = torch.utils.data.DataLoader(testset, batch_size=16,\n",
    "                                         shuffle=False, num_workers=2)\n",
    "\n",
    "classes = ('0', '1', '2', '3', '4', '5', '6', '7', '8', '9')"
   ]
  },
  {
   "cell_type": "code",
   "execution_count": 6,
   "metadata": {},
   "outputs": [
    {
     "name": "stderr",
     "output_type": "stream",
     "text": [
      "Clipping input data to the valid range for imshow with RGB data ([0..1] for floats or [0..255] for integers).\n"
     ]
    },
    {
     "data": {
      "image/png": "[encoded data removed]",
      "text/plain": [
       "<Figure size 432x288 with 1 Axes>"
      ]
     },
     "metadata": {
      "needs_background": "light"
     },
     "output_type": "display_data"
    },
    {
     "name": "stdout",
     "output_type": "stream",
     "text": [
      "    6     3     5     5\n"
     ]
    }
   ],
   "source": [
    "########################################################################\n",
    "# Let us show some of the training images, for fun.\n",
    "\n",
    "import matplotlib.pyplot as plt\n",
    "%matplotlib inline\n",
    "import numpy as np\n",
    "\n",
    "# functions to show an image\n",
    "\n",
    "def imshow(img):\n",
    "    img = img / 2 + 0.5     # unnormalize\n",
    "    npimg = img.cpu().numpy()\n",
    "    plt.imshow(np.transpose(npimg, (1, 2, 0)), cmap='gray')\n",
    "    plt.show()\n",
    "\n",
    "# get some random training images\n",
    "examples = enumerate(trainloader)\n",
    "batch_idx, (example_data, example_targets) = next(examples)\n",
    "\n",
    "# show images\n",
    "imshow(torchvision.utils.make_grid(example_data[:4]))\n",
    "\n",
    "\n",
    "# print labels\n",
    "print(' '.join('%5s' % classes[example_targets[j]] for j in range(4)))"
   ]
  },
  {
   "cell_type": "code",
   "execution_count": 9,
   "metadata": {},
   "outputs": [],
   "source": [
    "########################################################################\n",
    "# 2. Define a logit model\n",
    "# ^^^^^^^^^^^^^^^^^^^^^^^^^^^^^^^^^^^^^^\n",
    "\n",
    "import torch.nn as nn\n",
    "import torch.nn.functional as F\n",
    "\n",
    "\n",
    "class Model(nn.Module):\n",
    "    def __init__(self, input_dim, output_dim):\n",
    "        super(Model, self).__init__()\n",
    "        self.linear = nn.Linear(input_dim, output_dim) ### YOUR CODE ###, ### YOUR CODE ###)\n",
    "        \n",
    "    def forward(self, x):\n",
    "        # shape of input (=x): [16, 1, 28, 28]\n",
    "        # shape of output: [16, 10]\n",
    "        x = x.view(-1, 1 * 28 * 28)\n",
    "        prediction = self.linear(x) ### YOUR CODE ####\n",
    "        return prediction\n",
    "\n",
    "model = Model(784,10).to(pytorch_device)"
   ]
  },
  {
   "cell_type": "code",
   "execution_count": 10,
   "metadata": {},
   "outputs": [],
   "source": [
    "########################################################################\n",
    "# 3. Define a Loss function and optimizer\n",
    "# ^^^^^^^^^^^^^^^^^^^^^^^^^^^^^^^^^^^^^^^\n",
    "# Let's use a Classification Cross-Entropy loss and SGD with momentum.\n",
    "\n",
    "import torch.optim as optim\n",
    "lr_rate = 0.001\n",
    "criterion = torch.nn.CrossEntropyLoss()### YOUR CODE ###\n",
    "optimizer = optim.SGD(model.parameters(), lr=lr_rate)### YOUR CODE ###)"
   ]
  },
  {
   "cell_type": "code",
   "execution_count": 11,
   "metadata": {},
   "outputs": [
    {
     "name": "stdout",
     "output_type": "stream",
     "text": [
      "[1,  2000] loss: 0.739\n",
      "[2,  2000] loss: 0.394\n",
      "Finished Training\n"
     ]
    }
   ],
   "source": [
    "########################################################################\n",
    "# 4. Train the model\n",
    "# ^^^^^^^^^^^^^^^^^^^^\n",
    "#\n",
    "# This is when things start to get interesting.\n",
    "# We simply have to loop over our data iterator, and feed the inputs to the\n",
    "# model and optimize.\n",
    "\n",
    "for epoch in range(2):  # loop over the dataset multiple times\n",
    "    running_loss = 0.0\n",
    "    for i, data in enumerate(trainloader, 0):\n",
    "        # get the inputs; data is a list of [inputs, labels]\n",
    "        inputs, labels = data\n",
    "        inputs, labels = inputs.to(pytorch_device), labels.to(pytorch_device)\n",
    "        \n",
    "        # zero the parameter gradients\n",
    "        optimizer.zero_grad()\n",
    "\n",
    "        # forward + backward + optimize\n",
    "        outputs = model(inputs)\n",
    "        loss = criterion(outputs, labels)### YOUR CODE ###\n",
    "        loss.backward()### YOUR CODE ###\n",
    "        optimizer.step()### YOUR CODE ###\n",
    "\n",
    "        # print statistics\n",
    "        running_loss += loss.item()\n",
    "        if i % 2000 == 1999:    # print every 2000 mini-batches\n",
    "            print('[%d, %5d] loss: %.3f' %\n",
    "                  (epoch + 1, i + 1, running_loss / 2000))\n",
    "            running_loss = 0.0\n",
    "\n",
    "print('Finished Training')"
   ]
  },
  {
   "cell_type": "code",
   "execution_count": 12,
   "metadata": {},
   "outputs": [
    {
     "name": "stderr",
     "output_type": "stream",
     "text": [
      "Clipping input data to the valid range for imshow with RGB data ([0..1] for floats or [0..255] for integers).\n"
     ]
    },
    {
     "data": {
      "image/png": "[encoded data removed]",
      "text/plain": [
       "<Figure size 432x288 with 1 Axes>"
      ]
     },
     "metadata": {
      "needs_background": "light"
     },
     "output_type": "display_data"
    },
    {
     "name": "stdout",
     "output_type": "stream",
     "text": [
      "GroundTruth:      7     2     1     0     4     1     4     9     5     9     0     6     9     0     1     5\n",
      "Predicted:      7     2     1     0     4     1     4     9     6     9     0     6     9     0     1     5\n",
      "Accuracy of the model on the 60000 train images: 90 %\n",
      "Accuracy of the model on the 10000 test images: 90 %\n",
      "Accuracy of     0 : 97 %\n",
      "Accuracy of     1 : 96 %\n",
      "Accuracy of     2 : 86 %\n",
      "Accuracy of     3 : 89 %\n",
      "Accuracy of     4 : 91 %\n",
      "Accuracy of     5 : 84 %\n",
      "Accuracy of     6 : 93 %\n",
      "Accuracy of     7 : 90 %\n",
      "Accuracy of     8 : 86 %\n",
      "Accuracy of     9 : 87 %\n"
     ]
    }
   ],
   "source": [
    "########################################################################\n",
    "# See `here <https://pytorch.org/docs/stable/notes/serialization.html>`_\n",
    "# for more details on saving PyTorch models.\n",
    "#\n",
    "# 5. Test the model on the test data\n",
    "# ^^^^^^^^^^^^^^^^^^^^^^^^^^^^^^^^^^^^\n",
    "#\n",
    "# We have trained the model for 2 passes over the training dataset.\n",
    "# But we need to check if the model has learnt anything at all.\n",
    "#\n",
    "# We will check this by predicting the class label that the model\n",
    "# outputs, and checking it against the ground-truth. If the prediction is\n",
    "# correct, we add the sample to the list of correct predictions.\n",
    "#\n",
    "# Okay, first step. Let us display an image from the test set to get familiar.\n",
    "\n",
    "dataiter = iter(testloader)\n",
    "images, labels = dataiter.next()\n",
    "images, labels = images.to(pytorch_device), labels.to(pytorch_device)\n",
    "\n",
    "# print images\n",
    "imshow(torchvision.utils.make_grid(images))\n",
    "\n",
    "print('GroundTruth: ', ' '.join('%5s' % classes[labels[j]] for j in range(len(labels))))\n",
    "\n",
    "########################################################################\n",
    "# Okay, now let us see what the model thinks these examples above are:\n",
    "\n",
    "outputs = model(images)\n",
    "\n",
    "########################################################################\n",
    "# The outputs are energies for the 10 classes.\n",
    "# The higher the energy for a class, the more the model\n",
    "# thinks that the image is of the particular class.\n",
    "# So, let's get the index of the highest energy:\n",
    "_, predicted = torch.max(outputs, 1)\n",
    "\n",
    "print('Predicted: ', ' '.join('%5s' % classes[predicted[j]]\n",
    "                              for j in range(len(labels))))\n",
    "\n",
    "########################################################################\n",
    "# The results seem pretty good.\n",
    "#\n",
    "# Let us look at how the model performs on the whole dataset.\n",
    "\n",
    "correct = 0\n",
    "total = 0\n",
    "\n",
    "with torch.no_grad():\n",
    "    for data in trainloader:\n",
    "        images, labels = data\n",
    "        images, labels = images.to(pytorch_device), labels.to(pytorch_device)\n",
    "        outputs = model(images)\n",
    "        _, predicted = torch.max(outputs.data, 1)\n",
    "        total += labels.size(0)\n",
    "        correct += (predicted == labels).sum().item()\n",
    "\n",
    "print('Accuracy of the model on the 60000 train images: %d %%' % (\n",
    "    100 * correct / total))\n",
    "\n",
    "correct = 0\n",
    "total = 0\n",
    "\n",
    "class_correct = list(0. for i in range(10))\n",
    "class_total = list(0. for i in range(10))\n",
    "cmt = torch.zeros(10,10, dtype=torch.int64)\n",
    "\n",
    "\n",
    "with torch.no_grad():\n",
    "    for data in testloader:\n",
    "        images, labels = data\n",
    "        images, labels = images.to(pytorch_device), labels.to(pytorch_device)\n",
    "        outputs = model(images)\n",
    "        _, predicted = torch.max(outputs.data, 1)\n",
    "        total += labels.size(0)\n",
    "        correct += (predicted == labels).sum().item()\n",
    "\n",
    "        c = (predicted == labels).squeeze()\n",
    "        for i in range(len(labels)):\n",
    "            label = labels[i]\n",
    "            cmt[labels[i], predicted[i]] += 1\n",
    "            class_correct[label] += c[i].item()\n",
    "            class_total[label] += 1\n",
    "\n",
    "\n",
    "print('Accuracy of the model on the 10000 test images: %d %%' % (\n",
    "    100 * correct / total))\n",
    "\n",
    "for i in range(10):\n",
    "    print('Accuracy of %5s : %2d %%' % (\n",
    "        classes[i], 100 * class_correct[i] / class_total[i]))"
   ]
  },
  {
   "cell_type": "code",
   "execution_count": 13,
   "metadata": {},
   "outputs": [],
   "source": [
    "def plot_confusion_matrix(cm, classes, normalize=False, title='Confusion matrix', cmap=plt.cm.Blues):\n",
    "    if normalize:\n",
    "        cm = cm.astype('float') / cm.sum(axis=1)[:, np.newaxis]\n",
    "        print(\"Normalized confusion matrix\")\n",
    "    else:\n",
    "        print('Confusion matrix, without normalization')\n",
    "\n",
    "    print(cm)\n",
    "    plt.imshow(cm, interpolation='nearest', cmap=cmap)\n",
    "    plt.title(title)\n",
    "    plt.colorbar()\n",
    "    tick_marks = np.arange(len(classes))\n",
    "    plt.xticks(tick_marks, classes, rotation=45)\n",
    "    plt.yticks(tick_marks, classes)\n",
    "\n",
    "    fmt = '.2f' if normalize else 'd'\n",
    "    thresh = cm.max() / 2.\n",
    "    for i, j in itertools.product(range(cm.shape[0]), range(cm.shape[1])):\n",
    "        plt.text(j, i, format(cm[i, j], fmt), horizontalalignment=\"center\", color=\"white\" if cm[i, j] > thresh else \"black\")\n",
    "\n",
    "    plt.tight_layout()\n",
    "    plt.ylabel('True label')\n",
    "    plt.xlabel('Predicted label')"
   ]
  },
  {
   "cell_type": "code",
   "execution_count": 14,
   "metadata": {},
   "outputs": [
    {
     "name": "stdout",
     "output_type": "stream",
     "text": [
      "Confusion matrix, without normalization\n",
      "[[ 958    0    2    2    0    5    8    1    4    0]\n",
      " [   0 1096    2    4    1    3    4    1   24    0]\n",
      " [  12   10  888   16   14    2   15   25   39   11]\n",
      " [   5    2   19  900    1   29    6   17   22    9]\n",
      " [   2    6    3    1  901    1   11    1   10   46]\n",
      " [  12    5    6   44   11  752   16   10   27    9]\n",
      " [  15    3    5    2   13   17  900    1    2    0]\n",
      " [   3   22   25    5    9    0    0  927    4   33]\n",
      " [  10   10    8   27    8   26   13   15  847   10]\n",
      " [  14    7    4   10   37   11    1   29   11  885]]\n"
     ]
    },
    {
     "data": {
      "image/png": "[encoded data removed]",
      "text/plain": [
       "<Figure size 720x720 with 2 Axes>"
      ]
     },
     "metadata": {
      "needs_background": "light"
     },
     "output_type": "display_data"
    }
   ],
   "source": [
    "plt.figure(figsize=(10, 10))\n",
    "plot_confusion_matrix(cmt.numpy(), classes)"
   ]
  },
  {
   "cell_type": "markdown",
   "metadata": {},
   "source": [
    "### Experiment with hyperparameters"
   ]
  },
  {
   "cell_type": "markdown",
   "metadata": {},
   "source": [
    "### learning rate"
   ]
  },
  {
   "cell_type": "markdown",
   "metadata": {},
   "source": [
    "#### lr = 0.01"
   ]
  },
  {
   "cell_type": "code",
   "execution_count": 23,
   "metadata": {},
   "outputs": [
    {
     "name": "stdout",
     "output_type": "stream",
     "text": [
      "[1,  2000] loss: 0.336\n",
      "[2,  2000] loss: 0.298\n",
      "Finished Training\n"
     ]
    }
   ],
   "source": [
    "########################################################################\n",
    "# 4. Train the model\n",
    "# ^^^^^^^^^^^^^^^^^^^^\n",
    "#\n",
    "# This is when things start to get interesting.\n",
    "# We simply have to loop over our data iterator, and feed the inputs to the\n",
    "# model and optimize.\n",
    "\n",
    "lr_rate = 0.01\n",
    "criterion = torch.nn.CrossEntropyLoss()### YOUR CODE ###\n",
    "optimizer = optim.SGD(model.parameters(), lr=lr_rate)### YOUR CODE ###)\n",
    "\n",
    "for epoch in range(2):  # loop over the dataset multiple times\n",
    "    running_loss = 0.0\n",
    "    for i, data in enumerate(trainloader, 0):\n",
    "        # get the inputs; data is a list of [inputs, labels]\n",
    "        inputs, labels = data\n",
    "        inputs, labels = inputs.to(pytorch_device), labels.to(pytorch_device)\n",
    "        \n",
    "        # zero the parameter gradients\n",
    "        optimizer.zero_grad()\n",
    "\n",
    "        # forward + backward + optimize\n",
    "        outputs = model(inputs)\n",
    "        loss = criterion(outputs, labels)### YOUR CODE ###\n",
    "        loss.backward()### YOUR CODE ###\n",
    "        optimizer.step()### YOUR CODE ###\n",
    "\n",
    "        # print statistics\n",
    "        running_loss += loss.item()\n",
    "        if i % 2000 == 1999:    # print every 2000 mini-batches\n",
    "            print('[%d, %5d] loss: %.3f' %\n",
    "                  (epoch + 1, i + 1, running_loss / 2000))\n",
    "            running_loss = 0.0\n",
    "\n",
    "print('Finished Training')"
   ]
  },
  {
   "cell_type": "code",
   "execution_count": 24,
   "metadata": {},
   "outputs": [
    {
     "name": "stderr",
     "output_type": "stream",
     "text": [
      "Clipping input data to the valid range for imshow with RGB data ([0..1] for floats or [0..255] for integers).\n"
     ]
    },
    {
     "data": {
      "image/png": "[encoded data removed]",
      "text/plain": [
       "<Figure size 432x288 with 1 Axes>"
      ]
     },
     "metadata": {
      "needs_background": "light"
     },
     "output_type": "display_data"
    },
    {
     "name": "stdout",
     "output_type": "stream",
     "text": [
      "GroundTruth:      7     2     1     0     4     1     4     9     5     9     0     6     9     0     1     5\n",
      "Predicted:      7     2     1     0     4     1     4     9     6     9     0     6     9     0     1     5\n",
      "Accuracy of the model on the 60000 train images: 92 %\n",
      "Accuracy of the model on the 10000 test images: 91 %\n",
      "Accuracy of     0 : 98 %\n",
      "Accuracy of     1 : 97 %\n",
      "Accuracy of     2 : 89 %\n",
      "Accuracy of     3 : 92 %\n",
      "Accuracy of     4 : 94 %\n",
      "Accuracy of     5 : 83 %\n",
      "Accuracy of     6 : 94 %\n",
      "Accuracy of     7 : 93 %\n",
      "Accuracy of     8 : 89 %\n",
      "Accuracy of     9 : 84 %\n"
     ]
    }
   ],
   "source": [
    "########################################################################\n",
    "# See `here <https://pytorch.org/docs/stable/notes/serialization.html>`_\n",
    "# for more details on saving PyTorch models.\n",
    "#\n",
    "# 5. Test the model on the test data\n",
    "# ^^^^^^^^^^^^^^^^^^^^^^^^^^^^^^^^^^^^\n",
    "#\n",
    "# We have trained the model for 2 passes over the training dataset.\n",
    "# But we need to check if the model has learnt anything at all.\n",
    "#\n",
    "# We will check this by predicting the class label that the model\n",
    "# outputs, and checking it against the ground-truth. If the prediction is\n",
    "# correct, we add the sample to the list of correct predictions.\n",
    "#\n",
    "# Okay, first step. Let us display an image from the test set to get familiar.\n",
    "\n",
    "dataiter = iter(testloader)\n",
    "images, labels = dataiter.next()\n",
    "images, labels = images.to(pytorch_device), labels.to(pytorch_device)\n",
    "\n",
    "# print images\n",
    "imshow(torchvision.utils.make_grid(images))\n",
    "\n",
    "print('GroundTruth: ', ' '.join('%5s' % classes[labels[j]] for j in range(len(labels))))\n",
    "\n",
    "########################################################################\n",
    "# Okay, now let us see what the model thinks these examples above are:\n",
    "\n",
    "outputs = model(images)\n",
    "\n",
    "########################################################################\n",
    "# The outputs are energies for the 10 classes.\n",
    "# The higher the energy for a class, the more the model\n",
    "# thinks that the image is of the particular class.\n",
    "# So, let's get the index of the highest energy:\n",
    "_, predicted = torch.max(outputs, 1)\n",
    "\n",
    "print('Predicted: ', ' '.join('%5s' % classes[predicted[j]]\n",
    "                              for j in range(len(labels))))\n",
    "\n",
    "########################################################################\n",
    "# The results seem pretty good.\n",
    "#\n",
    "# Let us look at how the model performs on the whole dataset.\n",
    "\n",
    "correct = 0\n",
    "total = 0\n",
    "\n",
    "with torch.no_grad():\n",
    "    for data in trainloader:\n",
    "        images, labels = data\n",
    "        images, labels = images.to(pytorch_device), labels.to(pytorch_device)\n",
    "        outputs = model(images)\n",
    "        _, predicted = torch.max(outputs.data, 1)\n",
    "        total += labels.size(0)\n",
    "        correct += (predicted == labels).sum().item()\n",
    "\n",
    "print('Accuracy of the model on the 60000 train images: %d %%' % (\n",
    "    100 * correct / total))\n",
    "\n",
    "correct = 0\n",
    "total = 0\n",
    "\n",
    "class_correct = list(0. for i in range(10))\n",
    "class_total = list(0. for i in range(10))\n",
    "cmt = torch.zeros(10,10, dtype=torch.int64)\n",
    "\n",
    "\n",
    "with torch.no_grad():\n",
    "    for data in testloader:\n",
    "        images, labels = data\n",
    "        images, labels = images.to(pytorch_device), labels.to(pytorch_device)\n",
    "        outputs = model(images)\n",
    "        _, predicted = torch.max(outputs.data, 1)\n",
    "        total += labels.size(0)\n",
    "        correct += (predicted == labels).sum().item()\n",
    "\n",
    "        c = (predicted == labels).squeeze()\n",
    "        for i in range(len(labels)):\n",
    "            label = labels[i]\n",
    "            cmt[labels[i], predicted[i]] += 1\n",
    "            class_correct[label] += c[i].item()\n",
    "            class_total[label] += 1\n",
    "\n",
    "\n",
    "print('Accuracy of the model on the 10000 test images: %d %%' % (\n",
    "    100 * correct / total))\n",
    "\n",
    "for i in range(10):\n",
    "    print('Accuracy of %5s : %2d %%' % (\n",
    "        classes[i], 100 * class_correct[i] / class_total[i]))"
   ]
  },
  {
   "cell_type": "markdown",
   "metadata": {},
   "source": [
    "#### lr = 0.1"
   ]
  },
  {
   "cell_type": "code",
   "execution_count": 29,
   "metadata": {},
   "outputs": [
    {
     "name": "stdout",
     "output_type": "stream",
     "text": [
      "[1,  2000] loss: 0.506\n",
      "[2,  2000] loss: 0.500\n",
      "Finished Training\n"
     ]
    }
   ],
   "source": [
    "########################################################################\n",
    "# 4. Train the model\n",
    "# ^^^^^^^^^^^^^^^^^^^^\n",
    "#\n",
    "# This is when things start to get interesting.\n",
    "# We simply have to loop over our data iterator, and feed the inputs to the\n",
    "# model and optimize.\n",
    "\n",
    "lr_rate = 0.1\n",
    "criterion = torch.nn.CrossEntropyLoss()### YOUR CODE ###\n",
    "optimizer = optim.SGD(model.parameters(), lr=lr_rate)### YOUR CODE ###)\n",
    "\n",
    "for epoch in range(2):  # loop over the dataset multiple times\n",
    "    running_loss = 0.0\n",
    "    for i, data in enumerate(trainloader, 0):\n",
    "        # get the inputs; data is a list of [inputs, labels]\n",
    "        inputs, labels = data\n",
    "        inputs, labels = inputs.to(pytorch_device), labels.to(pytorch_device)\n",
    "        \n",
    "        # zero the parameter gradients\n",
    "        optimizer.zero_grad()\n",
    "\n",
    "        # forward + backward + optimize\n",
    "        outputs = model(inputs)\n",
    "        loss = criterion(outputs, labels)### YOUR CODE ###\n",
    "        loss.backward()### YOUR CODE ###\n",
    "        optimizer.step()### YOUR CODE ###\n",
    "\n",
    "        # print statistics\n",
    "        running_loss += loss.item()\n",
    "        if i % 2000 == 1999:    # print every 2000 mini-batches\n",
    "            print('[%d, %5d] loss: %.3f' %\n",
    "                  (epoch + 1, i + 1, running_loss / 2000))\n",
    "            running_loss = 0.0\n",
    "\n",
    "print('Finished Training')"
   ]
  },
  {
   "cell_type": "code",
   "execution_count": 30,
   "metadata": {},
   "outputs": [
    {
     "name": "stderr",
     "output_type": "stream",
     "text": [
      "Clipping input data to the valid range for imshow with RGB data ([0..1] for floats or [0..255] for integers).\n"
     ]
    },
    {
     "data": {
      "image/png": "[encoded data removed]",
      "text/plain": [
       "<Figure size 432x288 with 1 Axes>"
      ]
     },
     "metadata": {
      "needs_background": "light"
     },
     "output_type": "display_data"
    },
    {
     "name": "stdout",
     "output_type": "stream",
     "text": [
      "GroundTruth:      7     2     1     0     4     1     4     9     5     9     0     6     9     0     1     5\n",
      "Predicted:      7     2     1     0     4     1     4     9     6     9     0     6     9     0     1     5\n",
      "Accuracy of the model on the 60000 train images: 85 %\n",
      "Accuracy of the model on the 10000 test images: 85 %\n",
      "Accuracy of     0 : 95 %\n",
      "Accuracy of     1 : 85 %\n",
      "Accuracy of     2 : 92 %\n",
      "Accuracy of     3 : 74 %\n",
      "Accuracy of     4 : 91 %\n",
      "Accuracy of     5 : 90 %\n",
      "Accuracy of     6 : 74 %\n",
      "Accuracy of     7 : 93 %\n",
      "Accuracy of     8 : 87 %\n",
      "Accuracy of     9 : 72 %\n"
     ]
    }
   ],
   "source": [
    "########################################################################\n",
    "# See `here <https://pytorch.org/docs/stable/notes/serialization.html>`_\n",
    "# for more details on saving PyTorch models.\n",
    "#\n",
    "# 5. Test the model on the test data\n",
    "# ^^^^^^^^^^^^^^^^^^^^^^^^^^^^^^^^^^^^\n",
    "#\n",
    "# We have trained the model for 2 passes over the training dataset.\n",
    "# But we need to check if the model has learnt anything at all.\n",
    "#\n",
    "# We will check this by predicting the class label that the model\n",
    "# outputs, and checking it against the ground-truth. If the prediction is\n",
    "# correct, we add the sample to the list of correct predictions.\n",
    "#\n",
    "# Okay, first step. Let us display an image from the test set to get familiar.\n",
    "\n",
    "dataiter = iter(testloader)\n",
    "images, labels = dataiter.next()\n",
    "images, labels = images.to(pytorch_device), labels.to(pytorch_device)\n",
    "\n",
    "# print images\n",
    "imshow(torchvision.utils.make_grid(images))\n",
    "\n",
    "print('GroundTruth: ', ' '.join('%5s' % classes[labels[j]] for j in range(len(labels))))\n",
    "\n",
    "########################################################################\n",
    "# Okay, now let us see what the model thinks these examples above are:\n",
    "\n",
    "outputs = model(images)\n",
    "\n",
    "########################################################################\n",
    "# The outputs are energies for the 10 classes.\n",
    "# The higher the energy for a class, the more the model\n",
    "# thinks that the image is of the particular class.\n",
    "# So, let's get the index of the highest energy:\n",
    "_, predicted = torch.max(outputs, 1)\n",
    "\n",
    "print('Predicted: ', ' '.join('%5s' % classes[predicted[j]]\n",
    "                              for j in range(len(labels))))\n",
    "\n",
    "########################################################################\n",
    "# The results seem pretty good.\n",
    "#\n",
    "# Let us look at how the model performs on the whole dataset.\n",
    "\n",
    "correct = 0\n",
    "total = 0\n",
    "\n",
    "with torch.no_grad():\n",
    "    for data in trainloader:\n",
    "        images, labels = data\n",
    "        images, labels = images.to(pytorch_device), labels.to(pytorch_device)\n",
    "        outputs = model(images)\n",
    "        _, predicted = torch.max(outputs.data, 1)\n",
    "        total += labels.size(0)\n",
    "        correct += (predicted == labels).sum().item()\n",
    "\n",
    "print('Accuracy of the model on the 60000 train images: %d %%' % (\n",
    "    100 * correct / total))\n",
    "\n",
    "correct = 0\n",
    "total = 0\n",
    "\n",
    "class_correct = list(0. for i in range(10))\n",
    "class_total = list(0. for i in range(10))\n",
    "cmt = torch.zeros(10,10, dtype=torch.int64)\n",
    "\n",
    "\n",
    "with torch.no_grad():\n",
    "    for data in testloader:\n",
    "        images, labels = data\n",
    "        images, labels = images.to(pytorch_device), labels.to(pytorch_device)\n",
    "        outputs = model(images)\n",
    "        _, predicted = torch.max(outputs.data, 1)\n",
    "        total += labels.size(0)\n",
    "        correct += (predicted == labels).sum().item()\n",
    "\n",
    "        c = (predicted == labels).squeeze()\n",
    "        for i in range(len(labels)):\n",
    "            label = labels[i]\n",
    "            cmt[labels[i], predicted[i]] += 1\n",
    "            class_correct[label] += c[i].item()\n",
    "            class_total[label] += 1\n",
    "\n",
    "\n",
    "print('Accuracy of the model on the 10000 test images: %d %%' % (\n",
    "    100 * correct / total))\n",
    "\n",
    "for i in range(10):\n",
    "    print('Accuracy of %5s : %2d %%' % (\n",
    "        classes[i], 100 * class_correct[i] / class_total[i]))"
   ]
  },
  {
   "cell_type": "markdown",
   "metadata": {},
   "source": [
    "## So, a very high learning rate does more damage than good. Especially when using SGD where we process the data in batches"
   ]
  },
  {
   "cell_type": "markdown",
   "metadata": {},
   "source": [
    "### Num of epochs"
   ]
  },
  {
   "cell_type": "markdown",
   "metadata": {},
   "source": [
    "#### epochs = 10"
   ]
  },
  {
   "cell_type": "code",
   "execution_count": 32,
   "metadata": {},
   "outputs": [
    {
     "name": "stdout",
     "output_type": "stream",
     "text": [
      "[1,  2000] loss: 0.334\n",
      "[2,  2000] loss: 0.282\n",
      "[3,  2000] loss: 0.266\n",
      "[4,  2000] loss: 0.265\n",
      "[5,  2000] loss: 0.251\n",
      "[6,  2000] loss: 0.250\n",
      "[7,  2000] loss: 0.247\n",
      "[8,  2000] loss: 0.255\n",
      "[9,  2000] loss: 0.244\n",
      "[10,  2000] loss: 0.243\n",
      "Finished Training\n"
     ]
    }
   ],
   "source": [
    "########################################################################\n",
    "# 4. Train the model\n",
    "# ^^^^^^^^^^^^^^^^^^^^\n",
    "#\n",
    "# This is when things start to get interesting.\n",
    "# We simply have to loop over our data iterator, and feed the inputs to the\n",
    "# model and optimize.\n",
    "\n",
    "lr_rate = 0.01\n",
    "criterion = torch.nn.CrossEntropyLoss()### YOUR CODE ###\n",
    "optimizer = optim.SGD(model.parameters(), lr=lr_rate)### YOUR CODE ###)\n",
    "\n",
    "for epoch in range(10):  # loop over the dataset multiple times\n",
    "    running_loss = 0.0\n",
    "    for i, data in enumerate(trainloader, 0):\n",
    "        # get the inputs; data is a list of [inputs, labels]\n",
    "        inputs, labels = data\n",
    "        inputs, labels = inputs.to(pytorch_device), labels.to(pytorch_device)\n",
    "        \n",
    "        # zero the parameter gradients\n",
    "        optimizer.zero_grad()\n",
    "\n",
    "        # forward + backward + optimize\n",
    "        outputs = model(inputs)\n",
    "        loss = criterion(outputs, labels)### YOUR CODE ###\n",
    "        loss.backward()### YOUR CODE ###\n",
    "        optimizer.step()### YOUR CODE ###\n",
    "\n",
    "        # print statistics\n",
    "        running_loss += loss.item()\n",
    "        if i % 2000 == 1999:    # print every 2000 mini-batches\n",
    "            print('[%d, %5d] loss: %.3f' %\n",
    "                  (epoch + 1, i + 1, running_loss / 2000))\n",
    "            running_loss = 0.0\n",
    "\n",
    "print('Finished Training')"
   ]
  },
  {
   "cell_type": "code",
   "execution_count": 33,
   "metadata": {},
   "outputs": [
    {
     "name": "stderr",
     "output_type": "stream",
     "text": [
      "Clipping input data to the valid range for imshow with RGB data ([0..1] for floats or [0..255] for integers).\n"
     ]
    },
    {
     "data": {
      "image/png": "[encoded data removed]",
      "text/plain": [
       "<Figure size 432x288 with 1 Axes>"
      ]
     },
     "metadata": {
      "needs_background": "light"
     },
     "output_type": "display_data"
    },
    {
     "name": "stdout",
     "output_type": "stream",
     "text": [
      "GroundTruth:      7     2     1     0     4     1     4     9     5     9     0     6     9     0     1     5\n",
      "Predicted:      7     2     1     0     4     1     4     9     6     9     0     6     9     0     1     5\n",
      "Accuracy of the model on the 60000 train images: 93 %\n",
      "Accuracy of the model on the 10000 test images: 92 %\n",
      "Accuracy of     0 : 98 %\n",
      "Accuracy of     1 : 97 %\n",
      "Accuracy of     2 : 92 %\n",
      "Accuracy of     3 : 90 %\n",
      "Accuracy of     4 : 93 %\n",
      "Accuracy of     5 : 86 %\n",
      "Accuracy of     6 : 95 %\n",
      "Accuracy of     7 : 92 %\n",
      "Accuracy of     8 : 87 %\n",
      "Accuracy of     9 : 88 %\n"
     ]
    }
   ],
   "source": [
    "########################################################################\n",
    "# See `here <https://pytorch.org/docs/stable/notes/serialization.html>`_\n",
    "# for more details on saving PyTorch models.\n",
    "#\n",
    "# 5. Test the model on the test data\n",
    "# ^^^^^^^^^^^^^^^^^^^^^^^^^^^^^^^^^^^^\n",
    "#\n",
    "# We have trained the model for 2 passes over the training dataset.\n",
    "# But we need to check if the model has learnt anything at all.\n",
    "#\n",
    "# We will check this by predicting the class label that the model\n",
    "# outputs, and checking it against the ground-truth. If the prediction is\n",
    "# correct, we add the sample to the list of correct predictions.\n",
    "#\n",
    "# Okay, first step. Let us display an image from the test set to get familiar.\n",
    "\n",
    "dataiter = iter(testloader)\n",
    "images, labels = dataiter.next()\n",
    "images, labels = images.to(pytorch_device), labels.to(pytorch_device)\n",
    "\n",
    "# print images\n",
    "imshow(torchvision.utils.make_grid(images))\n",
    "\n",
    "print('GroundTruth: ', ' '.join('%5s' % classes[labels[j]] for j in range(len(labels))))\n",
    "\n",
    "########################################################################\n",
    "# Okay, now let us see what the model thinks these examples above are:\n",
    "\n",
    "outputs = model(images)\n",
    "\n",
    "########################################################################\n",
    "# The outputs are energies for the 10 classes.\n",
    "# The higher the energy for a class, the more the model\n",
    "# thinks that the image is of the particular class.\n",
    "# So, let's get the index of the highest energy:\n",
    "_, predicted = torch.max(outputs, 1)\n",
    "\n",
    "print('Predicted: ', ' '.join('%5s' % classes[predicted[j]]\n",
    "                              for j in range(len(labels))))\n",
    "\n",
    "########################################################################\n",
    "# The results seem pretty good.\n",
    "#\n",
    "# Let us look at how the model performs on the whole dataset.\n",
    "\n",
    "correct = 0\n",
    "total = 0\n",
    "\n",
    "with torch.no_grad():\n",
    "    for data in trainloader:\n",
    "        images, labels = data\n",
    "        images, labels = images.to(pytorch_device), labels.to(pytorch_device)\n",
    "        outputs = model(images)\n",
    "        _, predicted = torch.max(outputs.data, 1)\n",
    "        total += labels.size(0)\n",
    "        correct += (predicted == labels).sum().item()\n",
    "\n",
    "print('Accuracy of the model on the 60000 train images: %d %%' % (\n",
    "    100 * correct / total))\n",
    "\n",
    "correct = 0\n",
    "total = 0\n",
    "\n",
    "class_correct = list(0. for i in range(10))\n",
    "class_total = list(0. for i in range(10))\n",
    "cmt = torch.zeros(10,10, dtype=torch.int64)\n",
    "\n",
    "\n",
    "with torch.no_grad():\n",
    "    for data in testloader:\n",
    "        images, labels = data\n",
    "        images, labels = images.to(pytorch_device), labels.to(pytorch_device)\n",
    "        outputs = model(images)\n",
    "        _, predicted = torch.max(outputs.data, 1)\n",
    "        total += labels.size(0)\n",
    "        correct += (predicted == labels).sum().item()\n",
    "\n",
    "        c = (predicted == labels).squeeze()\n",
    "        for i in range(len(labels)):\n",
    "            label = labels[i]\n",
    "            cmt[labels[i], predicted[i]] += 1\n",
    "            class_correct[label] += c[i].item()\n",
    "            class_total[label] += 1\n",
    "\n",
    "\n",
    "print('Accuracy of the model on the 10000 test images: %d %%' % (\n",
    "    100 * correct / total))\n",
    "\n",
    "for i in range(10):\n",
    "    print('Accuracy of %5s : %2d %%' % (\n",
    "        classes[i], 100 * class_correct[i] / class_total[i]))"
   ]
  },
  {
   "cell_type": "markdown",
   "metadata": {},
   "source": [
    "### Adding few more epochs has improved the performance. But one should be careful not to overfit the training data"
   ]
  },
  {
   "cell_type": "markdown",
   "metadata": {},
   "source": [
    "## Batch-size"
   ]
  },
  {
   "cell_type": "code",
   "execution_count": 43,
   "metadata": {},
   "outputs": [],
   "source": [
    "trainset = torchvision.datasets.MNIST(root='./data', train=True,\n",
    "                                        download=True, transform=transform)\n",
    "trainloader = torch.utils.data.DataLoader(trainset, batch_size=8,\n",
    "                                          shuffle=True, num_workers=2)\n",
    "\n",
    "testset = torchvision.datasets.MNIST(root='./data', train=False,\n",
    "                                       download=True, transform=transform)\n",
    "testloader = torch.utils.data.DataLoader(testset, batch_size=8,\n",
    "                                         shuffle=False, num_workers=2)"
   ]
  },
  {
   "cell_type": "code",
   "execution_count": 47,
   "metadata": {},
   "outputs": [
    {
     "name": "stdout",
     "output_type": "stream",
     "text": [
      "[1,  2000] loss: 0.213\n",
      "[1,  4000] loss: 0.224\n",
      "[1,  6000] loss: 0.218\n",
      "[2,  2000] loss: 0.227\n",
      "[2,  4000] loss: 0.223\n",
      "[2,  6000] loss: 0.216\n",
      "Finished Training\n"
     ]
    }
   ],
   "source": [
    "########################################################################\n",
    "# 4. Train the model\n",
    "# ^^^^^^^^^^^^^^^^^^^^\n",
    "#\n",
    "# This is when things start to get interesting.\n",
    "# We simply have to loop over our data iterator, and feed the inputs to the\n",
    "# model and optimize.\n",
    "\n",
    "lr_rate = 0.001\n",
    "criterion = torch.nn.CrossEntropyLoss()### YOUR CODE ###\n",
    "optimizer = optim.SGD(model.parameters(), lr=lr_rate)### YOUR CODE ###)\n",
    "\n",
    "for epoch in range(2):  # loop over the dataset multiple times\n",
    "    running_loss = 0.0\n",
    "    for i, data in enumerate(trainloader, 0):\n",
    "        # get the inputs; data is a list of [inputs, labels]\n",
    "        inputs, labels = data\n",
    "        inputs, labels = inputs.to(pytorch_device), labels.to(pytorch_device)\n",
    "        \n",
    "        # zero the parameter gradients\n",
    "        optimizer.zero_grad()\n",
    "\n",
    "        # forward + backward + optimize\n",
    "        outputs = model(inputs)\n",
    "        loss = criterion(outputs, labels)### YOUR CODE ###\n",
    "        loss.backward()### YOUR CODE ###\n",
    "        optimizer.step()### YOUR CODE ###\n",
    "\n",
    "        # print statistics\n",
    "        running_loss += loss.item()\n",
    "        if i % 2000 == 1999:    # print every 2000 mini-batches\n",
    "            print('[%d, %5d] loss: %.3f' %\n",
    "                  (epoch + 1, i + 1, running_loss / 2000))\n",
    "            running_loss = 0.0\n",
    "\n",
    "print('Finished Training')"
   ]
  },
  {
   "cell_type": "code",
   "execution_count": 48,
   "metadata": {},
   "outputs": [
    {
     "name": "stderr",
     "output_type": "stream",
     "text": [
      "Clipping input data to the valid range for imshow with RGB data ([0..1] for floats or [0..255] for integers).\n"
     ]
    },
    {
     "data": {
      "image/png": "[encoded data removed]",
      "text/plain": [
       "<Figure size 432x288 with 1 Axes>"
      ]
     },
     "metadata": {
      "needs_background": "light"
     },
     "output_type": "display_data"
    },
    {
     "name": "stdout",
     "output_type": "stream",
     "text": [
      "GroundTruth:      7     2     1     0     4     1     4     9\n",
      "Predicted:      7     2     1     0     4     1     4     9\n",
      "Accuracy of the model on the 60000 train images: 94 %\n",
      "Accuracy of the model on the 10000 test images: 92 %\n",
      "Accuracy of     0 : 97 %\n",
      "Accuracy of     1 : 97 %\n",
      "Accuracy of     2 : 90 %\n",
      "Accuracy of     3 : 90 %\n",
      "Accuracy of     4 : 93 %\n",
      "Accuracy of     5 : 86 %\n",
      "Accuracy of     6 : 96 %\n",
      "Accuracy of     7 : 92 %\n",
      "Accuracy of     8 : 86 %\n",
      "Accuracy of     9 : 90 %\n"
     ]
    }
   ],
   "source": [
    "########################################################################\n",
    "# See `here <https://pytorch.org/docs/stable/notes/serialization.html>`_\n",
    "# for more details on saving PyTorch models.\n",
    "#\n",
    "# 5. Test the model on the test data\n",
    "# ^^^^^^^^^^^^^^^^^^^^^^^^^^^^^^^^^^^^\n",
    "#\n",
    "# We have trained the model for 2 passes over the training dataset.\n",
    "# But we need to check if the model has learnt anything at all.\n",
    "#\n",
    "# We will check this by predicting the class label that the model\n",
    "# outputs, and checking it against the ground-truth. If the prediction is\n",
    "# correct, we add the sample to the list of correct predictions.\n",
    "#\n",
    "# Okay, first step. Let us display an image from the test set to get familiar.\n",
    "\n",
    "dataiter = iter(testloader)\n",
    "images, labels = dataiter.next()\n",
    "images, labels = images.to(pytorch_device), labels.to(pytorch_device)\n",
    "\n",
    "# print images\n",
    "imshow(torchvision.utils.make_grid(images))\n",
    "\n",
    "print('GroundTruth: ', ' '.join('%5s' % classes[labels[j]] for j in range(len(labels))))\n",
    "\n",
    "########################################################################\n",
    "# Okay, now let us see what the model thinks these examples above are:\n",
    "\n",
    "outputs = model(images)\n",
    "\n",
    "########################################################################\n",
    "# The outputs are energies for the 10 classes.\n",
    "# The higher the energy for a class, the more the model\n",
    "# thinks that the image is of the particular class.\n",
    "# So, let's get the index of the highest energy:\n",
    "_, predicted = torch.max(outputs, 1)\n",
    "\n",
    "print('Predicted: ', ' '.join('%5s' % classes[predicted[j]]\n",
    "                              for j in range(len(labels))))\n",
    "\n",
    "########################################################################\n",
    "# The results seem pretty good.\n",
    "#\n",
    "# Let us look at how the model performs on the whole dataset.\n",
    "\n",
    "correct = 0\n",
    "total = 0\n",
    "\n",
    "with torch.no_grad():\n",
    "    for data in trainloader:\n",
    "        images, labels = data\n",
    "        images, labels = images.to(pytorch_device), labels.to(pytorch_device)\n",
    "        outputs = model(images)\n",
    "        _, predicted = torch.max(outputs.data, 1)\n",
    "        total += labels.size(0)\n",
    "        correct += (predicted == labels).sum().item()\n",
    "\n",
    "print('Accuracy of the model on the 60000 train images: %d %%' % (\n",
    "    100 * correct / total))\n",
    "\n",
    "correct = 0\n",
    "total = 0\n",
    "\n",
    "class_correct = list(0. for i in range(10))\n",
    "class_total = list(0. for i in range(10))\n",
    "cmt = torch.zeros(10,10, dtype=torch.int64)\n",
    "\n",
    "\n",
    "with torch.no_grad():\n",
    "    for data in testloader:\n",
    "        images, labels = data\n",
    "        images, labels = images.to(pytorch_device), labels.to(pytorch_device)\n",
    "        outputs = model(images)\n",
    "        _, predicted = torch.max(outputs.data, 1)\n",
    "        total += labels.size(0)\n",
    "        correct += (predicted == labels).sum().item()\n",
    "\n",
    "        c = (predicted == labels).squeeze()\n",
    "        for i in range(len(labels)):\n",
    "            label = labels[i]\n",
    "            cmt[labels[i], predicted[i]] += 1\n",
    "            class_correct[label] += c[i].item()\n",
    "            class_total[label] += 1\n",
    "\n",
    "\n",
    "print('Accuracy of the model on the 10000 test images: %d %%' % (\n",
    "    100 * correct / total))\n",
    "\n",
    "for i in range(10):\n",
    "    print('Accuracy of %5s : %2d %%' % (\n",
    "        classes[i], 100 * class_correct[i] / class_total[i]))"
   ]
  },
  {
   "cell_type": "markdown",
   "metadata": {},
   "source": [
    "### So, with all the parameters remaining the same, decreasing the batch size has improved the performance. But in general there is a trade-off between the batch size and num of steps to converge to a minima. The extreme case of making the batch size equal to the size of dataset probably requires more iterations to converge but at each step you go in the right direction. Where as a smaller batch size would might not go in the right direction of minima but probably requires less number of steps"
   ]
  },
  {
   "cell_type": "code",
   "execution_count": null,
   "metadata": {},
   "outputs": [],
   "source": []
  },
  {
   "cell_type": "markdown",
   "metadata": {
    "collapsed": true
   },
   "source": [
    "### SVM"
   ]
  },
  {
   "cell_type": "code",
   "execution_count": 70,
   "metadata": {},
   "outputs": [],
   "source": [
    "########################################################################\n",
    "# 2. Define a SVM model\n",
    "# ^^^^^^^^^^^^^^^^^^^^^^^^^^^^^^^^^^^^^^\n",
    "\n",
    "import torch.nn as nn\n",
    "import torch.nn.functional as F\n",
    "\n",
    "\n",
    "class Model(nn.Module):\n",
    "    def __init__(self, input_dim, output_dim):\n",
    "        super(Model, self).__init__()\n",
    "        self.linear = nn.Linear(input_dim, output_dim) ### YOUR CODE ###, ### YOUR CODE ###)\n",
    "        \n",
    "    def forward(self, x):\n",
    "        # shape of input (=x): [16, 1, 28, 28]\n",
    "        # shape of output: [16, 10]\n",
    "        x = x.view(-1, 1 * 28 * 28)\n",
    "        prediction = self.linear(x) ### YOUR CODE ####\n",
    "        return prediction\n",
    "\n",
    "model = Model(784,10).to(pytorch_device)"
   ]
  },
  {
   "cell_type": "code",
   "execution_count": 71,
   "metadata": {},
   "outputs": [],
   "source": [
    "lr_rate = 0.001\n",
    "criterion = torch.nn.MultiMarginLoss()### YOUR CODE ###\n",
    "optimizer = optim.SGD(model.parameters(), lr=lr_rate)### YOUR CODE ###)"
   ]
  },
  {
   "cell_type": "code",
   "execution_count": 72,
   "metadata": {},
   "outputs": [
    {
     "name": "stdout",
     "output_type": "stream",
     "text": [
      "[1,  2000] loss: 0.146\n",
      "[2,  2000] loss: 0.063\n",
      "[3,  2000] loss: 0.056\n",
      "[4,  2000] loss: 0.051\n",
      "[5,  2000] loss: 0.049\n",
      "[6,  2000] loss: 0.048\n",
      "[7,  2000] loss: 0.046\n",
      "[8,  2000] loss: 0.045\n",
      "[9,  2000] loss: 0.043\n",
      "[10,  2000] loss: 0.044\n",
      "Finished Training\n"
     ]
    }
   ],
   "source": [
    "########################################################################\n",
    "# 4. Train the model\n",
    "# ^^^^^^^^^^^^^^^^^^^^\n",
    "#\n",
    "# This is when things start to get interesting.\n",
    "# We simply have to loop over our data iterator, and feed the inputs to the\n",
    "# model and optimize.\n",
    "\n",
    "for epoch in range(10):  # loop over the dataset multiple times\n",
    "    running_loss = 0.0\n",
    "    for i, data in enumerate(trainloader, 0):\n",
    "        # get the inputs; data is a list of [inputs, labels]\n",
    "        inputs, labels = data\n",
    "        inputs, labels = inputs.to(pytorch_device), labels.to(pytorch_device)\n",
    "        \n",
    "        # zero the parameter gradients\n",
    "        optimizer.zero_grad()\n",
    "\n",
    "        # forward + backward + optimize\n",
    "        outputs = model(inputs)\n",
    "        loss = criterion(outputs, labels)### YOUR CODE ###\n",
    "        loss.backward()### YOUR CODE ###\n",
    "        optimizer.step()### YOUR CODE ###\n",
    "\n",
    "        # print statistics\n",
    "        running_loss += loss.item()\n",
    "        if i % 2000 == 1999:    # print every 2000 mini-batches\n",
    "            print('[%d, %5d] loss: %.3f' %\n",
    "                  (epoch + 1, i + 1, running_loss / 2000))\n",
    "            running_loss = 0.0\n",
    "\n",
    "print('Finished Training')"
   ]
  },
  {
   "cell_type": "code",
   "execution_count": 73,
   "metadata": {},
   "outputs": [
    {
     "name": "stderr",
     "output_type": "stream",
     "text": [
      "Clipping input data to the valid range for imshow with RGB data ([0..1] for floats or [0..255] for integers).\n"
     ]
    },
    {
     "data": {
      "image/png": "[encoded data removed]",
      "text/plain": [
       "<Figure size 432x288 with 1 Axes>"
      ]
     },
     "metadata": {
      "needs_background": "light"
     },
     "output_type": "display_data"
    },
    {
     "name": "stdout",
     "output_type": "stream",
     "text": [
      "GroundTruth:      7     2     1     0     4     1     4     9     5     9     0     6     9     0     1     5\n",
      "Predicted:      7     2     1     0     4     1     4     9     6     9     0     6     9     0     1     5\n",
      "Accuracy of the model on the 60000 train images: 91 %\n",
      "Accuracy of the model on the 10000 test images: 91 %\n",
      "Accuracy of     0 : 96 %\n",
      "Accuracy of     1 : 97 %\n",
      "Accuracy of     2 : 87 %\n",
      "Accuracy of     3 : 88 %\n",
      "Accuracy of     4 : 92 %\n",
      "Accuracy of     5 : 85 %\n",
      "Accuracy of     6 : 93 %\n",
      "Accuracy of     7 : 91 %\n",
      "Accuracy of     8 : 87 %\n",
      "Accuracy of     9 : 89 %\n"
     ]
    }
   ],
   "source": [
    "########################################################################\n",
    "# See `here <https://pytorch.org/docs/stable/notes/serialization.html>`_\n",
    "# for more details on saving PyTorch models.\n",
    "#\n",
    "# 5. Test the model on the test data\n",
    "# ^^^^^^^^^^^^^^^^^^^^^^^^^^^^^^^^^^^^\n",
    "#\n",
    "# We have trained the model for 2 passes over the training dataset.\n",
    "# But we need to check if the model has learnt anything at all.\n",
    "#\n",
    "# We will check this by predicting the class label that the model\n",
    "# outputs, and checking it against the ground-truth. If the prediction is\n",
    "# correct, we add the sample to the list of correct predictions.\n",
    "#\n",
    "# Okay, first step. Let us display an image from the test set to get familiar.\n",
    "\n",
    "dataiter = iter(testloader)\n",
    "images, labels = dataiter.next()\n",
    "images, labels = images.to(pytorch_device), labels.to(pytorch_device)\n",
    "\n",
    "# print images\n",
    "imshow(torchvision.utils.make_grid(images))\n",
    "\n",
    "print('GroundTruth: ', ' '.join('%5s' % classes[labels[j]] for j in range(len(labels))))\n",
    "\n",
    "########################################################################\n",
    "# Okay, now let us see what the model thinks these examples above are:\n",
    "\n",
    "outputs = model(images)\n",
    "\n",
    "########################################################################\n",
    "# The outputs are energies for the 10 classes.\n",
    "# The higher the energy for a class, the more the model\n",
    "# thinks that the image is of the particular class.\n",
    "# So, let's get the index of the highest energy:\n",
    "_, predicted = torch.max(outputs, 1)\n",
    "\n",
    "print('Predicted: ', ' '.join('%5s' % classes[predicted[j]]\n",
    "                              for j in range(len(labels))))\n",
    "\n",
    "########################################################################\n",
    "# The results seem pretty good.\n",
    "#\n",
    "# Let us look at how the model performs on the whole dataset.\n",
    "\n",
    "correct = 0\n",
    "total = 0\n",
    "\n",
    "with torch.no_grad():\n",
    "    for data in trainloader:\n",
    "        images, labels = data\n",
    "        images, labels = images.to(pytorch_device), labels.to(pytorch_device)\n",
    "        outputs = model(images)\n",
    "        _, predicted = torch.max(outputs.data, 1)\n",
    "        total += labels.size(0)\n",
    "        correct += (predicted == labels).sum().item()\n",
    "\n",
    "print('Accuracy of the model on the 60000 train images: %d %%' % (\n",
    "    100 * correct / total))\n",
    "\n",
    "correct = 0\n",
    "total = 0\n",
    "\n",
    "class_correct = list(0. for i in range(10))\n",
    "class_total = list(0. for i in range(10))\n",
    "cmt = torch.zeros(10,10, dtype=torch.int64)\n",
    "\n",
    "\n",
    "with torch.no_grad():\n",
    "    for data in testloader:\n",
    "        images, labels = data\n",
    "        images, labels = images.to(pytorch_device), labels.to(pytorch_device)\n",
    "        outputs = model(images)\n",
    "        _, predicted = torch.max(outputs.data, 1)\n",
    "        total += labels.size(0)\n",
    "        correct += (predicted == labels).sum().item()\n",
    "\n",
    "        c = (predicted == labels).squeeze()\n",
    "        for i in range(len(labels)):\n",
    "            label = labels[i]\n",
    "            cmt[labels[i], predicted[i]] += 1\n",
    "            class_correct[label] += c[i].item()\n",
    "            class_total[label] += 1\n",
    "\n",
    "\n",
    "print('Accuracy of the model on the 10000 test images: %d %%' % (\n",
    "    100 * correct / total))\n",
    "\n",
    "for i in range(10):\n",
    "    print('Accuracy of %5s : %2d %%' % (\n",
    "        classes[i], 100 * class_correct[i] / class_total[i]))"
   ]
  },
  {
   "cell_type": "code",
   "execution_count": 74,
   "metadata": {},
   "outputs": [
    {
     "name": "stdout",
     "output_type": "stream",
     "text": [
      "Confusion matrix, without normalization\n",
      "[[ 948    0    3    2    0   12   11    1    2    1]\n",
      " [   0 1102    2    3    1    4    4    1   18    0]\n",
      " [  10    8  901   14   16    3   18   15   43    4]\n",
      " [   4    1   19  898    0   42    3   16   20    7]\n",
      " [   1    2    4    2  911    1   10    3    6   42]\n",
      " [   9    4    5   38   12  767   17    7   24    9]\n",
      " [   8    3    8    1   18   17  898    2    3    0]\n",
      " [   4    8   23    7    6    1    0  940    2   37]\n",
      " [   9    7    8   18    9   33   13   11  852   14]\n",
      " [  11    7    3   11   40    5    0   24    8  900]]\n"
     ]
    },
    {
     "data": {
      "image/png": "[encoded data removed]",
      "text/plain": [
       "<Figure size 720x720 with 2 Axes>"
      ]
     },
     "metadata": {
      "needs_background": "light"
     },
     "output_type": "display_data"
    }
   ],
   "source": [
    "plt.figure(figsize=(10, 10))\n",
    "plot_confusion_matrix(cmt.numpy(), classes)"
   ]
  },
  {
   "cell_type": "code",
   "execution_count": null,
   "metadata": {},
   "outputs": [],
   "source": []
  }
 ],
 "metadata": {
  "kernelspec": {
   "display_name": "Python 3",
   "language": "python",
   "name": "python3"
  },
  "language_info": {
   "codemirror_mode": {
    "name": "ipython",
    "version": 3
   },
   "file_extension": ".py",
   "mimetype": "text/x-python",
   "name": "python",
   "nbconvert_exporter": "python",
   "pygments_lexer": "ipython3",
   "version": "3.7.3"
  }
 },
 "nbformat": 4,
 "nbformat_minor": 2
}
