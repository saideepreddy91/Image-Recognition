{
 "cells": [
  {
   "cell_type": "code",
   "execution_count": 1,
   "metadata": {},
   "outputs": [],
   "source": [
    "# -*- coding: utf-8 -*-\n",
    "\"\"\"\n",
    "Training an image classifier\n",
    "----------------------------\n",
    "We will do the following steps in order:\n",
    "1. Load and normalizing the MNIST training and test datasets using\n",
    "   ``torchvision``\n",
    "2. Define a nearest neighbor classifier\n",
    "3. Test the model on the test data (There is no training step for nearest neighbor classifier).\n",
    "1. Loading and normalizing MNIST\n",
    "^^^^^^^^^^^^^^^^^^^^^^^^^^^^^^^^^^\n",
    "Using ``torchvision``, it’s extremely easy to load MNIST.\n",
    "\"\"\"\n",
    "import os\n",
    "import torch\n",
    "import torchvision\n",
    "import torchvision.transforms as transforms\n",
    "%matplotlib inline\n",
    "import itertools\n",
    "\n",
    "########################################################################\n",
    "# The output of torchvision datasets are PILImage images of range [0, 1].\n",
    "# We transform them to Tensors of normalized range [-1, 1].\n",
    "# .. note::\n",
    "#     If running on Windows and you get a BrokenPipeError, try setting\n",
    "#     the num_worker of torch.utils.data.DataLoader() to 0."
   ]
  },
  {
   "cell_type": "code",
   "execution_count": 2,
   "metadata": {},
   "outputs": [],
   "source": [
    "pytorch_device = torch.device(\"cuda:0\" if torch.cuda.is_available() else \"cpu\")"
   ]
  },
  {
   "cell_type": "code",
   "execution_count": 3,
   "metadata": {},
   "outputs": [],
   "source": [
    "transform = transforms.Compose(\n",
    "    [transforms.ToTensor(),\n",
    "     transforms.Normalize((0.1307,), (0.3081,))])\n",
    "\n",
    "trainset = torchvision.datasets.MNIST(root='./data', train=True,\n",
    "                                        download=True, transform=transform)\n",
    "trainloader = torch.utils.data.DataLoader(trainset, batch_size=60000,\n",
    "                                          shuffle=True, num_workers=2)\n",
    "\n",
    "testset = torchvision.datasets.MNIST(root='./data', train=False,\n",
    "                                       download=True, transform=transform)\n",
    "testloader = torch.utils.data.DataLoader(testset, batch_size=16,\n",
    "                                         shuffle=False, num_workers=2)\n",
    "\n",
    "classes = ('0', '1', '2', '3', '4', '5', '6', '7', '8', '9')"
   ]
  },
  {
   "cell_type": "code",
   "execution_count": 4,
   "metadata": {},
   "outputs": [
    {
     "name": "stderr",
     "output_type": "stream",
     "text": [
      "Clipping input data to the valid range for imshow with RGB data ([0..1] for floats or [0..255] for integers).\n"
     ]
    },
    {
     "data": {
      "image/png": "[encoded data removed]",
      "text/plain": [
       "<Figure size 432x288 with 1 Axes>"
      ]
     },
     "metadata": {
      "needs_background": "light"
     },
     "output_type": "display_data"
    },
    {
     "name": "stdout",
     "output_type": "stream",
     "text": [
      "    0     4     4     6\n"
     ]
    }
   ],
   "source": [
    "########################################################################\n",
    "# Let us show some of the training images, for fun.\n",
    "\n",
    "import matplotlib.pyplot as plt\n",
    "import numpy as np\n",
    "\n",
    "# functions to show an image\n",
    "\n",
    "def imshow(img):\n",
    "    img = img / 2 + 0.5     # unnormalize\n",
    "    npimg = img.cpu().numpy()\n",
    "    plt.imshow(np.transpose(npimg, (1, 2, 0)), cmap='gray')\n",
    "    plt.show()\n",
    "\n",
    "# get some random training images\n",
    "examples = enumerate(trainloader)\n",
    "batch_idx, (example_data, example_targets) = next(examples)\n",
    "\n",
    "# show images\n",
    "imshow(torchvision.utils.make_grid(example_data[:4]))\n",
    "\n",
    "# print labels\n",
    "print(' '.join('%5s' % classes[example_targets[j]] for j in range(4)))"
   ]
  },
  {
   "cell_type": "code",
   "execution_count": 21,
   "metadata": {},
   "outputs": [],
   "source": [
    "########################################################################\n",
    "# 2. Define a nearest neighbor model\n",
    "# ^^^^^^^^^^^^^^^^^^^^^^^^^^^^^^^^^^^^^^\n",
    "import torch.nn as nn\n",
    "import torch.nn.functional as F\n",
    "\n",
    "class Model(nn.Module):\n",
    "    def __init__(self):\n",
    "        super(Model, self).__init__()\n",
    "        self.database_x = example_data.reshape(60000, 28*28).to(pytorch_device)\n",
    "        self.database_y = example_targets.to(pytorch_device)\n",
    "\n",
    "    def forward(self, x):\n",
    "        # shape of input (=x): [16, 1, 28, 28]\n",
    "        # shape of output: [16]\n",
    "        # output can take on integers in [0, 9]\n",
    "        \n",
    "        prediction = []\n",
    "        \n",
    "        x = x.view(-1, 1 * 28 * 28)\n",
    "        for j in range(x.shape[0]):\n",
    "            distances = torch.norm( (x[j].repeat(1,self.database_x.shape[0]).view(self.database_x.shape[0],-1) - self.database_x), 1, -1)\n",
    "            ind = torch.sort(distances.flatten()).indices\n",
    "            #print(ind)\n",
    "            prediction.append(self.database_y[ind[0]])\n",
    "        return prediction\n",
    "\n",
    "model = Model().to(pytorch_device)"
   ]
  },
  {
   "cell_type": "code",
   "execution_count": 16,
   "metadata": {},
   "outputs": [
    {
     "name": "stderr",
     "output_type": "stream",
     "text": [
      "Clipping input data to the valid range for imshow with RGB data ([0..1] for floats or [0..255] for integers).\n"
     ]
    },
    {
     "data": {
      "image/png": "[encoded data removed]",
      "text/plain": [
       "<Figure size 432x288 with 1 Axes>"
      ]
     },
     "metadata": {
      "needs_background": "light"
     },
     "output_type": "display_data"
    },
    {
     "name": "stdout",
     "output_type": "stream",
     "text": [
      "GroundTruth:      7     2     1     0     4     1     4     9     5     9     0     6     9     0     1     5\n",
      "x.shape:  torch.Size([16, 784])\n",
      "self.database_x.shape:  torch.Size([60000, 784])\n",
      "Predicted:      7     2     1     0     4     1     4     9     5     9     0     6     9     0     1     5\n"
     ]
    }
   ],
   "source": [
    "########################################################################\n",
    "# See `here <https://pytorch.org/docs/stable/notes/serialization.html>`_\n",
    "# for more details on saving PyTorch models.\n",
    "#\n",
    "# 5. Test the nearest neighbor model on the test data\n",
    "# ^^^^^^^^^^^^^^^^^^^^^^^^^^^^^^^^^^^^\n",
    "#\n",
    "#\n",
    "# We will check this by predicting the class label that the nearest neighbor model\n",
    "# outputs, and checking it against the ground-truth. If the prediction is\n",
    "# correct, we add the sample to the list of correct predictions.\n",
    "#\n",
    "# Okay, first step. Let us display an image from the test set to get familiar.\n",
    "\n",
    "dataiter = iter(testloader)\n",
    "images, labels = dataiter.next()\n",
    "images, labels = images.to(pytorch_device), labels.to(pytorch_device)\n",
    "\n",
    "# print images\n",
    "imshow(torchvision.utils.make_grid(images))\n",
    "\n",
    "print('GroundTruth: ', ' '.join('%5s' % classes[labels[j]] for j in range(len(labels))))\n",
    "\n",
    "########################################################################\n",
    "# Okay, now let us see what the nearest neighbor model thinks these examples above are:\n",
    "outputs = model(images)\n",
    "\n",
    "predicted = outputs\n",
    "print('Predicted: ', ' '.join('%5s' % classes[predicted[j]]\n",
    "                              for j in range(len(labels))))"
   ]
  },
  {
   "cell_type": "code",
   "execution_count": 22,
   "metadata": {},
   "outputs": [
    {
     "name": "stdout",
     "output_type": "stream",
     "text": [
      "Accuracy of the model on the 10000 test images: 96 %\n",
      "Accuracy of     0 : 99 %\n",
      "Accuracy of     1 : 99 %\n",
      "Accuracy of     2 : 95 %\n",
      "Accuracy of     3 : 95 %\n",
      "Accuracy of     4 : 95 %\n",
      "Accuracy of     5 : 95 %\n",
      "Accuracy of     6 : 98 %\n",
      "Accuracy of     7 : 96 %\n",
      "Accuracy of     8 : 91 %\n",
      "Accuracy of     9 : 95 %\n"
     ]
    }
   ],
   "source": [
    "########################################################################\n",
    "# The results seem pretty good.\n",
    "#\n",
    "# Let us look at how the model performs on the whole dataset.\n",
    "\n",
    "correct = 0\n",
    "total = 0\n",
    "class_correct = list(0. for i in range(10))\n",
    "class_total = list(0. for i in range(10))\n",
    "cmt = torch.zeros(10,10, dtype=torch.int64)\n",
    "\n",
    "with torch.no_grad():\n",
    "    for data in testloader:\n",
    "        images, labels = data\n",
    "        images, labels = images.to(pytorch_device), labels.to(pytorch_device)\n",
    "        outputs = model(images)\n",
    "        predicted = outputs\n",
    "        total += labels.size(0)\n",
    "        correct += (torch.Tensor(predicted).to(pytorch_device) == labels).sum().item()\n",
    "\n",
    "        c = (torch.Tensor(predicted).to(pytorch_device) == labels).squeeze()\n",
    "        for i in range(len(labels)):\n",
    "            label = labels[i]\n",
    "            cmt[labels[i], predicted[i]] += 1\n",
    "            class_correct[label] += c[i].item()\n",
    "            class_total[label] += 1\n",
    "\n",
    "print('Accuracy of the model on the 10000 test images: %d %%' % (\n",
    "    100 * correct / total))\n",
    "\n",
    "for i in range(10):\n",
    "    print('Accuracy of %5s : %2d %%' % (\n",
    "        classes[i], 100 * class_correct[i] / class_total[i]))"
   ]
  },
  {
   "cell_type": "code",
   "execution_count": 18,
   "metadata": {},
   "outputs": [],
   "source": [
    "def plot_confusion_matrix(cm, classes, normalize=False, title='Confusion matrix', cmap=plt.cm.Blues):\n",
    "    if normalize:\n",
    "        cm = cm.astype('float') / cm.sum(axis=1)[:, np.newaxis]\n",
    "        print(\"Normalized confusion matrix\")\n",
    "    else:\n",
    "        print('Confusion matrix, without normalization')\n",
    "\n",
    "    print(cm)\n",
    "    plt.imshow(cm, interpolation='nearest', cmap=cmap)\n",
    "    plt.title(title)\n",
    "    plt.colorbar()\n",
    "    tick_marks = np.arange(len(classes))\n",
    "    plt.xticks(tick_marks, classes, rotation=45)\n",
    "    plt.yticks(tick_marks, classes)\n",
    "\n",
    "    fmt = '.2f' if normalize else 'd'\n",
    "    thresh = cm.max() / 2.\n",
    "    for i, j in itertools.product(range(cm.shape[0]), range(cm.shape[1])):\n",
    "        plt.text(j, i, format(cm[i, j], fmt), horizontalalignment=\"center\",\\\n",
    "                 color=\"white\" if cm[i, j] > thresh else \"black\")\n",
    "\n",
    "    plt.tight_layout()\n",
    "    plt.ylabel('True label')\n",
    "    plt.xlabel('Predicted label')"
   ]
  },
  {
   "cell_type": "code",
   "execution_count": 19,
   "metadata": {},
   "outputs": [
    {
     "name": "stdout",
     "output_type": "stream",
     "text": [
      "Confusion matrix, without normalization\n",
      "[[ 973    2    1    0    0    1    2    1    0    0]\n",
      " [   0 1129    3    0    1    1    1    0    0    0]\n",
      " [   9    8  987    6    1    0    2   17    2    0]\n",
      " [   0    2    4  965    1   21    0    9    4    4]\n",
      " [   1    9    0    0  937    0    3    4    1   27]\n",
      " [   2    1    0   17    2  848    9    1    5    7]\n",
      " [   5    2    1    0    2    5  943    0    0    0]\n",
      " [   0   20    4    2    4    0    0  989    0    9]\n",
      " [   9    5    6   21    4   18    3    4  894   10]\n",
      " [   1    5    1    7   13    5    1    9    1  966]]\n"
     ]
    },
    {
     "data": {
      "image/png": "[encoded data removed]",
      "text/plain": [
       "<Figure size 720x720 with 2 Axes>"
      ]
     },
     "metadata": {
      "needs_background": "light"
     },
     "output_type": "display_data"
    }
   ],
   "source": [
    "plt.figure(figsize=(10, 10))\n",
    "plot_confusion_matrix(cmt.numpy(), classes)"
   ]
  },
  {
   "cell_type": "markdown",
   "metadata": {
    "collapsed": true
   },
   "source": [
    "### Experiment with hyperparameters"
   ]
  },
  {
   "cell_type": "markdown",
   "metadata": {},
   "source": [
    "#### Cosine similarity distance"
   ]
  },
  {
   "cell_type": "code",
   "execution_count": 29,
   "metadata": {},
   "outputs": [],
   "source": [
    "########################################################################\n",
    "# 2. Define a nearest neighbor model\n",
    "# ^^^^^^^^^^^^^^^^^^^^^^^^^^^^^^^^^^^^^^\n",
    "cos = nn.CosineSimilarity(dim=1, eps=1e-6)\n",
    "\n",
    "class Model(nn.Module):\n",
    "    def __init__(self):\n",
    "        super(Model, self).__init__()\n",
    "        self.database_x = example_data.reshape(60000, 28*28).to(pytorch_device)\n",
    "        self.database_y = example_targets.to(pytorch_device)\n",
    "\n",
    "    def forward(self, x):\n",
    "        # shape of input (=x): [16, 1, 28, 28]\n",
    "        # shape of output: [16]\n",
    "        # output can take on integers in [0, 9]\n",
    "        \n",
    "        prediction = []\n",
    "        \n",
    "        x = x.view(-1, 1 * 28 * 28)\n",
    "        for j in range(x.shape[0]):\n",
    "            distances = cos( x[j].repeat(1,self.database_x.shape[0]).view(self.database_x.shape[0],-1) ,\\\n",
    "                            self.database_x)\n",
    "            ind = torch.sort(distances.flatten()).indices\n",
    "            #print(ind)\n",
    "            prediction.append(self.database_y[ind[-1]])\n",
    "        return prediction\n",
    "\n",
    "model = Model().to(pytorch_device)"
   ]
  },
  {
   "cell_type": "code",
   "execution_count": 30,
   "metadata": {},
   "outputs": [
    {
     "name": "stderr",
     "output_type": "stream",
     "text": [
      "Clipping input data to the valid range for imshow with RGB data ([0..1] for floats or [0..255] for integers).\n"
     ]
    },
    {
     "data": {
      "image/png": "[encoded data removed]",
      "text/plain": [
       "<Figure size 432x288 with 1 Axes>"
      ]
     },
     "metadata": {
      "needs_background": "light"
     },
     "output_type": "display_data"
    },
    {
     "name": "stdout",
     "output_type": "stream",
     "text": [
      "GroundTruth:      7     2     1     0     4     1     4     9     5     9     0     6     9     0     1     5\n",
      "Predicted:      7     2     1     0     4     1     4     9     5     9     0     6     9     0     1     5\n"
     ]
    }
   ],
   "source": [
    "########################################################################\n",
    "# See `here <https://pytorch.org/docs/stable/notes/serialization.html>`_\n",
    "# for more details on saving PyTorch models.\n",
    "#\n",
    "# 5. Test the nearest neighbor model on the test data\n",
    "# ^^^^^^^^^^^^^^^^^^^^^^^^^^^^^^^^^^^^\n",
    "#\n",
    "#\n",
    "# We will check this by predicting the class label that the nearest neighbor model\n",
    "# outputs, and checking it against the ground-truth. If the prediction is\n",
    "# correct, we add the sample to the list of correct predictions.\n",
    "#\n",
    "# Okay, first step. Let us display an image from the test set to get familiar.\n",
    "\n",
    "dataiter = iter(testloader)\n",
    "images, labels = dataiter.next()\n",
    "images, labels = images.to(pytorch_device), labels.to(pytorch_device)\n",
    "\n",
    "# print images\n",
    "imshow(torchvision.utils.make_grid(images))\n",
    "\n",
    "print('GroundTruth: ', ' '.join('%5s' % classes[labels[j]] for j in range(len(labels))))\n",
    "\n",
    "########################################################################\n",
    "# Okay, now let us see what the nearest neighbor model thinks these examples above are:\n",
    "outputs = model(images)\n",
    "\n",
    "predicted = outputs\n",
    "print('Predicted: ', ' '.join('%5s' % classes[predicted[j]]\n",
    "                              for j in range(len(labels))))"
   ]
  },
  {
   "cell_type": "code",
   "execution_count": 31,
   "metadata": {},
   "outputs": [
    {
     "name": "stdout",
     "output_type": "stream",
     "text": [
      "Accuracy of the model on the 10000 test images: 97 %\n",
      "Accuracy of     0 : 99 %\n",
      "Accuracy of     1 : 99 %\n",
      "Accuracy of     2 : 96 %\n",
      "Accuracy of     3 : 96 %\n",
      "Accuracy of     4 : 95 %\n",
      "Accuracy of     5 : 95 %\n",
      "Accuracy of     6 : 98 %\n",
      "Accuracy of     7 : 96 %\n",
      "Accuracy of     8 : 95 %\n",
      "Accuracy of     9 : 95 %\n"
     ]
    }
   ],
   "source": [
    "########################################################################\n",
    "# The results seem pretty good.\n",
    "#\n",
    "# Let us look at how the model performs on the whole dataset.\n",
    "\n",
    "correct = 0\n",
    "total = 0\n",
    "class_correct = list(0. for i in range(10))\n",
    "class_total = list(0. for i in range(10))\n",
    "cmt = torch.zeros(10,10, dtype=torch.int64)\n",
    "\n",
    "with torch.no_grad():\n",
    "    for data in testloader:\n",
    "        images, labels = data\n",
    "        images, labels = images.to(pytorch_device), labels.to(pytorch_device)\n",
    "        outputs = model(images)\n",
    "        predicted = outputs\n",
    "        total += labels.size(0)\n",
    "        correct += (torch.Tensor(predicted).to(pytorch_device) == labels).sum().item()\n",
    "\n",
    "        c = (torch.Tensor(predicted).to(pytorch_device) == labels).squeeze()\n",
    "        for i in range(len(labels)):\n",
    "            label = labels[i]\n",
    "            cmt[labels[i], predicted[i]] += 1\n",
    "            class_correct[label] += c[i].item()\n",
    "            class_total[label] += 1\n",
    "\n",
    "print('Accuracy of the model on the 10000 test images: %d %%' % (\n",
    "    100 * correct / total))\n",
    "\n",
    "for i in range(10):\n",
    "    print('Accuracy of %5s : %2d %%' % (\n",
    "        classes[i], 100 * class_correct[i] / class_total[i]))"
   ]
  },
  {
   "cell_type": "code",
   "execution_count": 32,
   "metadata": {},
   "outputs": [
    {
     "name": "stdout",
     "output_type": "stream",
     "text": [
      "Confusion matrix, without normalization\n",
      "[[ 975    1    1    0    0    0    2    1    0    0]\n",
      " [   0 1128    3    1    1    1    1    0    0    0]\n",
      " [  10    0  999    5    1    0    2   12    3    0]\n",
      " [   0    1    1  977    1   14    0    6    6    4]\n",
      " [   1    3    0    0  941    0    6    3    1   27]\n",
      " [   1    1    0   16    1  856    8    1    4    4]\n",
      " [   5    3    0    0    2    4  944    0    0    0]\n",
      " [   1   13    5    2    2    0    0  992    0   13]\n",
      " [   6    2    1   16    4    6    5    4  926    4]\n",
      " [   5    6    1    7    9    3    1    9    3  965]]\n"
     ]
    },
    {
     "data": {
      "image/png": "[encoded data removed]",
      "text/plain": [
       "<Figure size 720x720 with 2 Axes>"
      ]
     },
     "metadata": {
      "needs_background": "light"
     },
     "output_type": "display_data"
    }
   ],
   "source": [
    "plt.figure(figsize=(10, 10))\n",
    "plot_confusion_matrix(cmt.numpy(), classes)"
   ]
  },
  {
   "cell_type": "code",
   "execution_count": null,
   "metadata": {},
   "outputs": [],
   "source": []
  },
  {
   "cell_type": "markdown",
   "metadata": {},
   "source": [
    "### Pairwise distance (other than 2 unlike Eucledian)"
   ]
  },
  {
   "cell_type": "markdown",
   "metadata": {},
   "source": [
    "#### p = 3"
   ]
  },
  {
   "cell_type": "code",
   "execution_count": 42,
   "metadata": {},
   "outputs": [],
   "source": [
    "########################################################################\n",
    "# 2. Define a nearest neighbor model\n",
    "# ^^^^^^^^^^^^^^^^^^^^^^^^^^^^^^^^^^^^^^\n",
    "pdist = torch.nn.PairwiseDistance(p=3)\n",
    "\n",
    "class Model(nn.Module):\n",
    "    def __init__(self):\n",
    "        super(Model, self).__init__()\n",
    "        self.database_x = example_data.reshape(60000, 28*28).to(pytorch_device)\n",
    "        self.database_y = example_targets.to(pytorch_device)\n",
    "\n",
    "    def forward(self, x):\n",
    "        # shape of input (=x): [16, 1, 28, 28]\n",
    "        # shape of output: [16]\n",
    "        # output can take on integers in [0, 9]\n",
    "        \n",
    "        prediction = []\n",
    "        \n",
    "        x = x.view(-1, 1 * 28 * 28)\n",
    "        for j in range(x.shape[0]):\n",
    "            distances = pdist( x[j].repeat(1,self.database_x.shape[0]).view(self.database_x.shape[0],-1) ,\\\n",
    "                            self.database_x)\n",
    "            ind = torch.sort(distances.flatten()).indices\n",
    "            #print(ind)\n",
    "            prediction.append(self.database_y[ind[0]])\n",
    "        return prediction\n",
    "\n",
    "model = Model().to(pytorch_device)"
   ]
  },
  {
   "cell_type": "code",
   "execution_count": 43,
   "metadata": {},
   "outputs": [
    {
     "name": "stderr",
     "output_type": "stream",
     "text": [
      "Clipping input data to the valid range for imshow with RGB data ([0..1] for floats or [0..255] for integers).\n"
     ]
    },
    {
     "data": {
      "image/png": "[encoded data removed]",
      "text/plain": [
       "<Figure size 432x288 with 1 Axes>"
      ]
     },
     "metadata": {
      "needs_background": "light"
     },
     "output_type": "display_data"
    },
    {
     "name": "stdout",
     "output_type": "stream",
     "text": [
      "GroundTruth:      7     2     1     0     4     1     4     9     5     9     0     6     9     0     1     5\n",
      "Predicted:      7     2     1     0     4     1     4     9     5     9     0     6     9     0     1     5\n"
     ]
    }
   ],
   "source": [
    "########################################################################\n",
    "# See `here <https://pytorch.org/docs/stable/notes/serialization.html>`_\n",
    "# for more details on saving PyTorch models.\n",
    "#\n",
    "# 5. Test the nearest neighbor model on the test data\n",
    "# ^^^^^^^^^^^^^^^^^^^^^^^^^^^^^^^^^^^^\n",
    "#\n",
    "#\n",
    "# We will check this by predicting the class label that the nearest neighbor model\n",
    "# outputs, and checking it against the ground-truth. If the prediction is\n",
    "# correct, we add the sample to the list of correct predictions.\n",
    "#\n",
    "# Okay, first step. Let us display an image from the test set to get familiar.\n",
    "\n",
    "dataiter = iter(testloader)\n",
    "images, labels = dataiter.next()\n",
    "images, labels = images.to(pytorch_device), labels.to(pytorch_device)\n",
    "\n",
    "# print images\n",
    "imshow(torchvision.utils.make_grid(images))\n",
    "\n",
    "print('GroundTruth: ', ' '.join('%5s' % classes[labels[j]] for j in range(len(labels))))\n",
    "\n",
    "########################################################################\n",
    "# Okay, now let us see what the nearest neighbor model thinks these examples above are:\n",
    "outputs = model(images)\n",
    "\n",
    "predicted = outputs\n",
    "print('Predicted: ', ' '.join('%5s' % classes[predicted[j]]\n",
    "                              for j in range(len(labels))))"
   ]
  },
  {
   "cell_type": "code",
   "execution_count": 44,
   "metadata": {},
   "outputs": [
    {
     "name": "stdout",
     "output_type": "stream",
     "text": [
      "Accuracy of the model on the 10000 test images: 97 %\n",
      "Accuracy of     0 : 99 %\n",
      "Accuracy of     1 : 99 %\n",
      "Accuracy of     2 : 96 %\n",
      "Accuracy of     3 : 95 %\n",
      "Accuracy of     4 : 96 %\n",
      "Accuracy of     5 : 96 %\n",
      "Accuracy of     6 : 98 %\n",
      "Accuracy of     7 : 96 %\n",
      "Accuracy of     8 : 95 %\n",
      "Accuracy of     9 : 96 %\n"
     ]
    }
   ],
   "source": [
    "########################################################################\n",
    "# The results seem pretty good.\n",
    "#\n",
    "# Let us look at how the model performs on the whole dataset.\n",
    "\n",
    "correct = 0\n",
    "total = 0\n",
    "class_correct = list(0. for i in range(10))\n",
    "class_total = list(0. for i in range(10))\n",
    "cmt = torch.zeros(10,10, dtype=torch.int64)\n",
    "\n",
    "with torch.no_grad():\n",
    "    for data in testloader:\n",
    "        images, labels = data\n",
    "        images, labels = images.to(pytorch_device), labels.to(pytorch_device)\n",
    "        outputs = model(images)\n",
    "        predicted = outputs\n",
    "        total += labels.size(0)\n",
    "        correct += (torch.Tensor(predicted).to(pytorch_device) == labels).sum().item()\n",
    "\n",
    "        c = (torch.Tensor(predicted).to(pytorch_device) == labels).squeeze()\n",
    "        for i in range(len(labels)):\n",
    "            label = labels[i]\n",
    "            cmt[labels[i], predicted[i]] += 1\n",
    "            class_correct[label] += c[i].item()\n",
    "            class_total[label] += 1\n",
    "\n",
    "print('Accuracy of the model on the 10000 test images: %d %%' % (\n",
    "    100 * correct / total))\n",
    "\n",
    "for i in range(10):\n",
    "    print('Accuracy of %5s : %2d %%' % (\n",
    "        classes[i], 100 * class_correct[i] / class_total[i]))"
   ]
  },
  {
   "cell_type": "code",
   "execution_count": 45,
   "metadata": {},
   "outputs": [
    {
     "name": "stdout",
     "output_type": "stream",
     "text": [
      "Confusion matrix, without normalization\n",
      "[[ 973    1    1    0    0    0    3    1    1    0]\n",
      " [   0 1129    3    0    1    1    1    0    0    0]\n",
      " [   6    2 1001    4    1    0    2   14    2    0]\n",
      " [   0    1    2  969    1   20    0    6    6    5]\n",
      " [   0    5    0    0  946    0    3    5    2   21]\n",
      " [   1    1    0    9    2  861    5    1    7    5]\n",
      " [   3    3    0    0    3    5  944    0    0    0]\n",
      " [   0   11    8    2    4    0    0  994    0    9]\n",
      " [   3    1    2   15    5    8    3    4  929    4]\n",
      " [   2    3    1    3   11    5    1   11    1  971]]\n"
     ]
    },
    {
     "data": {
      "image/png": "[encoded data removed]",
      "text/plain": [
       "<Figure size 720x720 with 2 Axes>"
      ]
     },
     "metadata": {
      "needs_background": "light"
     },
     "output_type": "display_data"
    }
   ],
   "source": [
    "plt.figure(figsize=(10, 10))\n",
    "plot_confusion_matrix(cmt.numpy(), classes)"
   ]
  },
  {
   "cell_type": "markdown",
   "metadata": {},
   "source": [
    "#### p = 4"
   ]
  },
  {
   "cell_type": "code",
   "execution_count": 46,
   "metadata": {},
   "outputs": [
    {
     "name": "stdout",
     "output_type": "stream",
     "text": [
      "Accuracy of the model on the 10000 test images: 97 %\n",
      "Accuracy of     0 : 99 %\n",
      "Accuracy of     1 : 99 %\n",
      "Accuracy of     2 : 97 %\n",
      "Accuracy of     3 : 95 %\n",
      "Accuracy of     4 : 97 %\n",
      "Accuracy of     5 : 96 %\n",
      "Accuracy of     6 : 98 %\n",
      "Accuracy of     7 : 96 %\n",
      "Accuracy of     8 : 95 %\n",
      "Accuracy of     9 : 96 %\n"
     ]
    }
   ],
   "source": [
    "########################################################################\n",
    "# 2. Define a nearest neighbor model\n",
    "# ^^^^^^^^^^^^^^^^^^^^^^^^^^^^^^^^^^^^^^\n",
    "pdist = torch.nn.PairwiseDistance(p=4)\n",
    "\n",
    "class Model(nn.Module):\n",
    "    def __init__(self):\n",
    "        super(Model, self).__init__()\n",
    "        self.database_x = example_data.reshape(60000, 28*28).to(pytorch_device)\n",
    "        self.database_y = example_targets.to(pytorch_device)\n",
    "\n",
    "    def forward(self, x):\n",
    "        # shape of input (=x): [16, 1, 28, 28]\n",
    "        # shape of output: [16]\n",
    "        # output can take on integers in [0, 9]\n",
    "        \n",
    "        prediction = []\n",
    "        \n",
    "        x = x.view(-1, 1 * 28 * 28)\n",
    "        for j in range(x.shape[0]):\n",
    "            distances = pdist( x[j].repeat(1,self.database_x.shape[0]).view(self.database_x.shape[0],-1) ,\\\n",
    "                            self.database_x)\n",
    "            ind = torch.sort(distances.flatten()).indices\n",
    "            #print(ind)\n",
    "            prediction.append(self.database_y[ind[0]])\n",
    "        return prediction\n",
    "\n",
    "model = Model().to(pytorch_device)\n",
    "\n",
    "\n",
    "########################################################################\n",
    "# The results seem pretty good.\n",
    "#\n",
    "# Let us look at how the model performs on the whole dataset.\n",
    "\n",
    "correct = 0\n",
    "total = 0\n",
    "class_correct = list(0. for i in range(10))\n",
    "class_total = list(0. for i in range(10))\n",
    "cmt = torch.zeros(10,10, dtype=torch.int64)\n",
    "\n",
    "with torch.no_grad():\n",
    "    for data in testloader:\n",
    "        images, labels = data\n",
    "        images, labels = images.to(pytorch_device), labels.to(pytorch_device)\n",
    "        outputs = model(images)\n",
    "        predicted = outputs\n",
    "        total += labels.size(0)\n",
    "        correct += (torch.Tensor(predicted).to(pytorch_device) == labels).sum().item()\n",
    "\n",
    "        c = (torch.Tensor(predicted).to(pytorch_device) == labels).squeeze()\n",
    "        for i in range(len(labels)):\n",
    "            label = labels[i]\n",
    "            cmt[labels[i], predicted[i]] += 1\n",
    "            class_correct[label] += c[i].item()\n",
    "            class_total[label] += 1\n",
    "\n",
    "print('Accuracy of the model on the 10000 test images: %d %%' % (\n",
    "    100 * correct / total))\n",
    "\n",
    "for i in range(10):\n",
    "    print('Accuracy of %5s : %2d %%' % (\n",
    "        classes[i], 100 * class_correct[i] / class_total[i]))"
   ]
  },
  {
   "cell_type": "markdown",
   "metadata": {},
   "source": [
    "### Seems like p = 4 did slighlty better than p = 2 (and of course eucledian)"
   ]
  }
 ],
 "metadata": {
  "kernelspec": {
   "display_name": "Python 3",
   "language": "python",
   "name": "python3"
  },
  "language_info": {
   "codemirror_mode": {
    "name": "ipython",
    "version": 3
   },
   "file_extension": ".py",
   "mimetype": "text/x-python",
   "name": "python",
   "nbconvert_exporter": "python",
   "pygments_lexer": "ipython3",
   "version": "3.7.3"
  }
 },
 "nbformat": 4,
 "nbformat_minor": 2
}
